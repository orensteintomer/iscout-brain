{
 "cells": [
  {
   "cell_type": "code",
   "execution_count": 1,
   "metadata": {
    "collapsed": true
   },
   "outputs": [],
   "source": [
    "#this means that the graphs we will create are inline for the notebook\n",
    "%matplotlib inline \n",
    "import numpy as np\n",
    "import pandas as pd"
   ]
  },
  {
   "cell_type": "code",
   "execution_count": 3,
   "metadata": {
    "collapsed": true
   },
   "outputs": [],
   "source": [
    "# loads origin csv data\n",
    "df = pd.read_csv(\"data_for_ml.csv\")\n",
    "df = df.drop(['name', 'id'], axis=1)"
   ]
  },
  {
   "cell_type": "code",
   "execution_count": 4,
   "metadata": {},
   "outputs": [
    {
     "name": "stdout",
     "output_type": "stream",
     "text": [
      "Populating the interactive namespace from numpy and matplotlib\n"
     ]
    }
   ],
   "source": [
    "%pylab inline\n",
    "pylab.rcParams['figure.figsize'] = (20, 10)\n",
    "\n",
    "from matplotlib import pyplot as plt\n",
    "from scipy.cluster.hierarchy import dendrogram, linkage"
   ]
  },
  {
   "cell_type": "code",
   "execution_count": 5,
   "metadata": {},
   "outputs": [
    {
     "data": {
      "text/plain": [
       "array([[ 10.        ,  13.        ,   8.30739243,   2.        ],\n",
       "       [  0.        ,   1.        ,   9.10933724,   2.        ],\n",
       "       [  2.        ,  11.        ,  11.12291333,   2.        ],\n",
       "       [  5.        ,   8.        ,  12.99539799,   2.        ],\n",
       "       [  3.        ,   4.        ,  13.23244497,   2.        ],\n",
       "       [  7.        ,   9.        ,  14.17340735,   2.        ],\n",
       "       [ 12.        ,  15.        ,  16.44197499,   3.        ],\n",
       "       [  6.        ,  18.        ,  18.66594135,   3.        ],\n",
       "       [ 14.        ,  19.        ,  23.59086943,   4.        ],\n",
       "       [ 16.        ,  21.        ,  25.72398612,   5.        ],\n",
       "       [ 20.        ,  23.        ,  40.24851855,   8.        ],\n",
       "       [ 17.        ,  22.        ,  49.42285187,   6.        ],\n",
       "       [ 24.        ,  25.        ,  77.90672246,  14.        ]])"
      ]
     },
     "execution_count": 5,
     "metadata": {},
     "output_type": "execute_result"
    }
   ],
   "source": [
    "linkage_matrix = linkage(df, 'ward')\n",
    "linkage_matrix"
   ]
  },
  {
   "cell_type": "code",
   "execution_count": 6,
   "metadata": {},
   "outputs": [
    {
     "data": {
      "text/html": [
       "<div>\n",
       "<style>\n",
       "    .dataframe thead tr:only-child th {\n",
       "        text-align: right;\n",
       "    }\n",
       "\n",
       "    .dataframe thead th {\n",
       "        text-align: left;\n",
       "    }\n",
       "\n",
       "    .dataframe tbody tr th {\n",
       "        vertical-align: top;\n",
       "    }\n",
       "</style>\n",
       "<table border=\"1\" class=\"dataframe\">\n",
       "  <thead>\n",
       "    <tr style=\"text-align: right;\">\n",
       "      <th></th>\n",
       "      <th>idx1</th>\n",
       "      <th>idx2</th>\n",
       "      <th>distance</th>\n",
       "      <th>sample_count</th>\n",
       "      <th>merge_id</th>\n",
       "    </tr>\n",
       "  </thead>\n",
       "  <tbody>\n",
       "    <tr>\n",
       "      <th>0</th>\n",
       "      <td>10.0</td>\n",
       "      <td>13.0</td>\n",
       "      <td>8.307392</td>\n",
       "      <td>2.0</td>\n",
       "      <td>14.0</td>\n",
       "    </tr>\n",
       "    <tr>\n",
       "      <th>1</th>\n",
       "      <td>0.0</td>\n",
       "      <td>1.0</td>\n",
       "      <td>9.109337</td>\n",
       "      <td>2.0</td>\n",
       "      <td>15.0</td>\n",
       "    </tr>\n",
       "    <tr>\n",
       "      <th>2</th>\n",
       "      <td>2.0</td>\n",
       "      <td>11.0</td>\n",
       "      <td>11.122913</td>\n",
       "      <td>2.0</td>\n",
       "      <td>16.0</td>\n",
       "    </tr>\n",
       "    <tr>\n",
       "      <th>3</th>\n",
       "      <td>5.0</td>\n",
       "      <td>8.0</td>\n",
       "      <td>12.995398</td>\n",
       "      <td>2.0</td>\n",
       "      <td>17.0</td>\n",
       "    </tr>\n",
       "    <tr>\n",
       "      <th>4</th>\n",
       "      <td>3.0</td>\n",
       "      <td>4.0</td>\n",
       "      <td>13.232445</td>\n",
       "      <td>2.0</td>\n",
       "      <td>18.0</td>\n",
       "    </tr>\n",
       "  </tbody>\n",
       "</table>\n",
       "</div>"
      ],
      "text/plain": [
       "   idx1  idx2   distance  sample_count  merge_id\n",
       "0  10.0  13.0   8.307392           2.0      14.0\n",
       "1   0.0   1.0   9.109337           2.0      15.0\n",
       "2   2.0  11.0  11.122913           2.0      16.0\n",
       "3   5.0   8.0  12.995398           2.0      17.0\n",
       "4   3.0   4.0  13.232445           2.0      18.0"
      ]
     },
     "execution_count": 6,
     "metadata": {},
     "output_type": "execute_result"
    }
   ],
   "source": [
    "# Creates dataframe for results\n",
    "dfresults = pd.DataFrame(columns=['idx1', 'idx2', 'distance', 'sample_count', 'merge_id'])\n",
    "\n",
    "for idx in range(0, len(linkage_matrix)):\n",
    "    \n",
    "    currentArr = linkage_matrix[idx]\n",
    "    \n",
    "    # Creates current hotel row\n",
    "    curow = { 'idx1': currentArr[0],\n",
    "              'idx2': currentArr[1],\n",
    "              'distance': currentArr[2],\n",
    "              'sample_count': currentArr[3],\n",
    "              'merge_id': idx + len(df) }\n",
    "    \n",
    "    # Append current hotel row to results data frame       \n",
    "    dfresults = dfresults.append(curow, ignore_index=True)\n",
    "    \n",
    "dfresults.head()"
   ]
  },
  {
   "cell_type": "code",
   "execution_count": 7,
   "metadata": {
    "collapsed": true
   },
   "outputs": [],
   "source": [
    "dfresults.to_csv('clustring_results.csv', encoding='utf-8')"
   ]
  },
  {
   "cell_type": "code",
   "execution_count": 8,
   "metadata": {},
   "outputs": [
    {
     "data": {
      "text/plain": [
       "<function scipy.cluster.hierarchy.dendrogram>"
      ]
     },
     "execution_count": 8,
     "metadata": {},
     "output_type": "execute_result"
    },
    {
     "data": {
      "image/png": "[encoded data removed]",
      "text/plain": [
       "<matplotlib.figure.Figure at 0x27517ca7cc0>"
      ]
     },
     "metadata": {},
     "output_type": "display_data"
    }
   ],
   "source": [
    "dendrogram(\n",
    "    linkage_matrix,\n",
    "    truncate_mode=\"lastp\",  # show only the last p merged clusters\n",
    "    p=200,  # show only the last p merged clusters\n",
    "    show_leaf_counts=True,  # numbers in brackets are counts, others idx\n",
    "    leaf_rotation=60.,\n",
    "    leaf_font_size=6.,\n",
    "    show_contracted=True,  # to get a distribution impression in truncated branches\n",
    ")\n",
    "dendrogram\n",
    "# plt.show()"
   ]
  }
 ],
 "metadata": {
  "kernelspec": {
   "display_name": "Python 3",
   "language": "python",
   "name": "python3"
  },
  "language_info": {
   "codemirror_mode": {
    "name": "ipython",
    "version": 3
   },
   "file_extension": ".py",
   "mimetype": "text/x-python",
   "name": "python",
   "nbconvert_exporter": "python",
   "pygments_lexer": "ipython3",
   "version": "3.6.3"
  }
 },
 "nbformat": 4,
 "nbformat_minor": 2
}
